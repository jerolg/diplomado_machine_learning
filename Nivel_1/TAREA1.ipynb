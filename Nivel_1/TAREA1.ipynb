{
 "cells": [
  {
   "cell_type": "code",
   "execution_count": 9,
   "metadata": {},
   "outputs": [],
   "source": [
    "import numpy as np\n",
    "import random"
   ]
  },
  {
   "cell_type": "markdown",
   "metadata": {},
   "source": [
    "**1** Cree una matriz de números aleatorios de tamaño 9x9. Cada número debe ser una potencia aleatoria de 2 (2 N), en el rango entre 1 y N, donde N es un número ingresado por el usuario. Luego haga lo siguiente:\n",
    "a. Cree la sub-matriz B, a partir de la fila 5 hasta la fila 9 y la columna 1 hasta la\n",
    "columna 4.\n",
    "b. Encuentre el promedio (media) de la diagonal principal de A.\n",
    "c. Encuentre el promedio de la segunda columna de B.\n",
    "d. Encuentre el promedio y el valor mayor de A y súmelos, luego haga lo mismo con B. Después compare e imprima cual de los dos resultados es mayor"
   ]
  },
  {
   "cell_type": "code",
   "execution_count": 18,
   "metadata": {},
   "outputs": [
    {
     "name": "stdout",
     "output_type": "stream",
     "text": [
      "[[  16.   16.   16.   16.   16.   16.   16.   16.   16.]\n",
      " [1024. 1024. 1024. 1024. 1024. 1024. 1024. 1024. 1024.]\n",
      " [ 256.  256.  256.  256.  256.  256.  256.  256.  256.]\n",
      " [ 256.  256.  256.  256.  256.  256.  256.  256.  256.]\n",
      " [1024. 1024. 1024. 1024. 1024. 1024. 1024. 1024. 1024.]\n",
      " [   8.    8.    8.    8.    8.    8.    8.    8.    8.]\n",
      " [  64.   64.   64.   64.   64.   64.   64.   64.   64.]\n",
      " [   4.    4.    4.    4.    4.    4.    4.    4.    4.]\n",
      " [   8.    8.    8.    8.    8.    8.    8.    8.    8.]] \n",
      "\n",
      "\n",
      " [[1024. 1024. 1024. 1024.]\n",
      " [   8.    8.    8.    8.]\n",
      " [  64.   64.   64.   64.]\n",
      " [   4.    4.    4.    4.]\n",
      " [   8.    8.    8.    8.]]\n"
     ]
    }
   ],
   "source": [
    "def random_gen(N):\n",
    "    random_array = np.zeros((9,9))\n",
    "    for i in range(len(random_array)):\n",
    "        exp = random.randint(1,N)\n",
    "        random_array[i] = 2**exp\n",
    "    \n",
    "    return random_array\n",
    "\n",
    "matrix = random_gen(10)\n",
    "\n",
    "#Punto A\n",
    "\n",
    "B_matrix = matrix[4:9, 0:4]\n",
    "print(matrix, '\\n\\n\\n', B_matrix)"
   ]
  },
  {
   "cell_type": "code",
   "execution_count": 37,
   "metadata": {},
   "outputs": [
    {
     "name": "stdout",
     "output_type": "stream",
     "text": [
      " A: 295.55555555555554 \n",
      "\n",
      " B: 221.6\n"
     ]
    }
   ],
   "source": [
    "#Punto B Y C\n",
    "\n",
    "print(' A:', (matrix.diagonal()).mean(), '\\n\\n', 'B:',B_matrix[:,1].mean())"
   ]
  },
  {
   "cell_type": "code",
   "execution_count": 39,
   "metadata": {},
   "outputs": [
    {
     "name": "stdout",
     "output_type": "stream",
     "text": [
      "1319.5555555555557 A es el mayor\n"
     ]
    }
   ],
   "source": [
    "#Punto D\n",
    "\n",
    "sum_A, sum_B = matrix.max() + matrix.mean(), B_matrix.max() + B_matrix.mean()\n",
    "\n",
    "if sum_A < sum_B:\n",
    "    print(f'{sum_B} B es el mayor')\n",
    "\n",
    "else:\n",
    "    print(f'{sum_A} A es el mayor')"
   ]
  },
  {
   "cell_type": "markdown",
   "metadata": {},
   "source": [
    "**2** Haga un algoritmo que permita generar una matriz de dimensiones aleatorias\n",
    "(mínimo de 2x2 y máximo de 6x6), y que contenga valores aleatorios enteros\n",
    "(con el rango que usted desee). Pregunte al usuario por un valor N (en el\n",
    "mismo rango mencionado) y luego imprima:\n",
    "a) Las posiciones y valores de la matriz que sean iguales a N\n",
    "b) Las posiciones y valores que sean menores a N.\n",
    "c) Las posiciones y valores que sean mayores a N."
   ]
  },
  {
   "cell_type": "code",
   "execution_count": 81,
   "metadata": {},
   "outputs": [
    {
     "name": "stdout",
     "output_type": "stream",
     "text": [
      "= N (Pocisiones, Valores)\n",
      "\n",
      " (array([2, 2, 2, 2, 2, 2, 2, 2, 2, 2, 6, 6, 6, 6, 6, 6, 6, 6, 6, 6, 8, 8,\n",
      "       8, 8, 8, 8, 8, 8, 8, 8], dtype=int64), array([0, 1, 2, 3, 4, 5, 6, 7, 8, 9, 0, 1, 2, 3, 4, 5, 6, 7, 8, 9, 0, 1,\n",
      "       2, 3, 4, 5, 6, 7, 8, 9], dtype=int64)) \n",
      "\n",
      "<= N (Pocisiones, Valores)\n",
      "\n",
      " (array([0, 0, 0, 0, 0, 0, 0, 0, 0, 0, 1, 1, 1, 1, 1, 1, 1, 1, 1, 1, 2, 2,\n",
      "       2, 2, 2, 2, 2, 2, 2, 2, 3, 3, 3, 3, 3, 3, 3, 3, 3, 3, 5, 5, 5, 5,\n",
      "       5, 5, 5, 5, 5, 5, 6, 6, 6, 6, 6, 6, 6, 6, 6, 6, 7, 7, 7, 7, 7, 7,\n",
      "       7, 7, 7, 7, 8, 8, 8, 8, 8, 8, 8, 8, 8, 8], dtype=int64), array([0, 1, 2, 3, 4, 5, 6, 7, 8, 9, 0, 1, 2, 3, 4, 5, 6, 7, 8, 9, 0, 1,\n",
      "       2, 3, 4, 5, 6, 7, 8, 9, 0, 1, 2, 3, 4, 5, 6, 7, 8, 9, 0, 1, 2, 3,\n",
      "       4, 5, 6, 7, 8, 9, 0, 1, 2, 3, 4, 5, 6, 7, 8, 9, 0, 1, 2, 3, 4, 5,\n",
      "       6, 7, 8, 9, 0, 1, 2, 3, 4, 5, 6, 7, 8, 9], dtype=int64)) \n",
      "\n",
      "=> N (Pocisiones, Valores)\n",
      "\n",
      " (array([2, 2, 2, 2, 2, 2, 2, 2, 2, 2, 4, 4, 4, 4, 4, 4, 4, 4, 4, 4, 6, 6,\n",
      "       6, 6, 6, 6, 6, 6, 6, 6, 8, 8, 8, 8, 8, 8, 8, 8, 8, 8, 9, 9, 9, 9,\n",
      "       9, 9, 9, 9, 9, 9], dtype=int64), array([0, 1, 2, 3, 4, 5, 6, 7, 8, 9, 0, 1, 2, 3, 4, 5, 6, 7, 8, 9, 0, 1,\n",
      "       2, 3, 4, 5, 6, 7, 8, 9, 0, 1, 2, 3, 4, 5, 6, 7, 8, 9, 0, 1, 2, 3,\n",
      "       4, 5, 6, 7, 8, 9], dtype=int64))\n"
     ]
    }
   ],
   "source": [
    "def random_matrix(max_number_range, N):\n",
    "    rand = random.randint(0, max_number_range)\n",
    "    matrix = np.zeros((rand, rand))\n",
    "    for i in range(len(matrix)):\n",
    "        matrix[i] = random.randint(0, max_number_range)\n",
    "    \n",
    "    equal_N = [np.where(matrix == N), matrix[np.where(matrix == N)]]\n",
    "    minor_N = [np.where(matrix <= N), matrix[np.where(matrix <= N)]]\n",
    "    major_N = [np.where(matrix >= N), matrix[np.where(matrix >= N)]]\n",
    "    \n",
    "    print('= N (Pocisiones, Valores)\\n\\n',equal_N[0],'\\n\\n<= N (Pocisiones, Valores)\\n\\n',minor_N[0],'\\n\\n=> N (Pocisiones, Valores)\\n\\n',major_N[0])\n",
    "\n",
    "random_matrix(10, 7)"
   ]
  },
  {
   "cell_type": "markdown",
   "metadata": {},
   "source": [
    "**3** Cree una matriz A de valores aleatorios tipo float entre 0 y 20 y de orden 5x5, y\n",
    "una matriz B de orden 10x10 a partir de los siguientes componentes (en el\n",
    "mismo orden):\n",
    "\n",
    " | A | 2A |\n",
    "|----------|----------|\n",
    "| A^2    | A+2   |\n",
    "\n",
    " \n",
    "Nota: A\n",
    "2 denota la multiplicación de los elementos de A con A, componente a\n",
    "componente, es decir, NO coincide con la multiplicación definida en el álgebra lineal."
   ]
  },
  {
   "cell_type": "code",
   "execution_count": 98,
   "metadata": {},
   "outputs": [
    {
     "data": {
      "text/plain": [
       "array([[2.11099427e+00, 6.51274139e-01, 2.17922935e+00, 1.88060952e+00,\n",
       "        2.20151304e+00, 4.22198855e+00, 1.30254828e+00, 4.35845871e+00,\n",
       "        3.76121903e+00, 4.40302609e+00],\n",
       "       [3.42468049e+00, 1.26795972e+01, 3.84430502e-01, 1.54828739e+01,\n",
       "        1.59043172e+01, 6.84936099e+00, 2.53591944e+01, 7.68861003e-01,\n",
       "        3.09657478e+01, 3.18086345e+01],\n",
       "       [1.08950529e+01, 1.26778359e+01, 1.25038839e+01, 1.65809574e+01,\n",
       "        1.23160359e+01, 2.17901058e+01, 2.53556719e+01, 2.50077678e+01,\n",
       "        3.31619148e+01, 2.46320719e+01],\n",
       "       [4.77785598e+00, 1.20867179e+01, 8.73292727e+00, 1.72533591e+01,\n",
       "        1.88345009e+01, 9.55571195e+00, 2.41734358e+01, 1.74658545e+01,\n",
       "        3.45067182e+01, 3.76690017e+01],\n",
       "       [2.12594150e+00, 1.85913091e+01, 8.97453587e+00, 5.91086738e+00,\n",
       "        2.30612102e-01, 4.25188300e+00, 3.71826181e+01, 1.79490717e+01,\n",
       "        1.18217348e+01, 4.61224205e-01],\n",
       "       [4.45629682e+00, 4.24158004e-01, 4.74904058e+00, 3.53669216e+00,\n",
       "        4.84665969e+00, 4.11099427e+00, 2.65127414e+00, 4.17922935e+00,\n",
       "        3.88060952e+00, 4.20151304e+00],\n",
       "       [1.17284365e+01, 1.60772185e+02, 1.47786811e-01, 2.39719385e+02,\n",
       "        2.52947306e+02, 5.42468049e+00, 1.46795972e+01, 2.38443050e+00,\n",
       "        1.74828739e+01, 1.79043172e+01],\n",
       "       [1.18702178e+02, 1.60727524e+02, 1.56347112e+02, 2.74928148e+02,\n",
       "        1.51684741e+02, 1.28950529e+01, 1.46778359e+01, 1.45038839e+01,\n",
       "        1.85809574e+01, 1.43160359e+01],\n",
       "       [2.28279077e+01, 1.46088749e+02, 7.62640187e+01, 2.97678401e+02,\n",
       "        3.54738422e+02, 6.77785598e+00, 1.40867179e+01, 1.07329273e+01,\n",
       "        1.92533591e+01, 2.08345009e+01],\n",
       "       [4.51962726e+00, 3.45636773e+02, 8.05422940e+01, 3.49383532e+01,\n",
       "        5.31819417e-02, 4.12594150e+00, 2.05913091e+01, 1.09745359e+01,\n",
       "        7.91086738e+00, 2.23061210e+00]])"
      ]
     },
     "execution_count": 98,
     "metadata": {},
     "output_type": "execute_result"
    }
   ],
   "source": [
    "A = np.random.uniform(0,20, size=(5,5))\n",
    "B = np.zeros((10,10))\n",
    "B[0:5, 0:5] = A\n",
    "B[0:5, 5:10] = 2*A\n",
    "B[5:10, 0:5] = A*A\n",
    "B[5:10, 5:10] = A+2"
   ]
  }
 ],
 "metadata": {
  "kernelspec": {
   "display_name": "Python 3",
   "language": "python",
   "name": "python3"
  },
  "language_info": {
   "codemirror_mode": {
    "name": "ipython",
    "version": 3
   },
   "file_extension": ".py",
   "mimetype": "text/x-python",
   "name": "python",
   "nbconvert_exporter": "python",
   "pygments_lexer": "ipython3",
   "version": "3.11.9"
  }
 },
 "nbformat": 4,
 "nbformat_minor": 2
}
